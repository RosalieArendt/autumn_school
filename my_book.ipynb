{
 "cells": [
  {
   "cell_type": "code",
   "execution_count": null,
   "id": "01729da1-0313-4a1e-8232-898a2a7fe969",
   "metadata": {},
   "outputs": [],
   "source": [
    "x = 5"
   ]
  },
  {
   "cell_type": "markdown",
   "id": "ea5d0d5c-9b6e-4039-aae7-3ff98a191411",
   "metadata": {},
   "source": [
    "this is five "
   ]
  },
  {
   "cell_type": "code",
   "execution_count": null,
   "id": "e95e5862-3f52-41aa-8fa0-0de66abb938a",
   "metadata": {},
   "outputs": [],
   "source": [
    "from numbers import Number\n",
    "\n",
    "def add_numbers(a: Number, b: Number) ->Number:\n",
    "    return a+b\n",
    "    # this helps for people to understand the function\n",
    "\n",
    "    "
   ]
  }
 ],
 "metadata": {
  "kernelspec": {
   "display_name": "Python 3 (ipykernel)",
   "language": "python",
   "name": "python3"
  },
  "language_info": {
   "codemirror_mode": {
    "name": "ipython",
    "version": 3
   },
   "file_extension": ".py",
   "mimetype": "text/x-python",
   "name": "python",
   "nbconvert_exporter": "python",
   "pygments_lexer": "ipython3",
   "version": "3.11.10"
  }
 },
 "nbformat": 4,
 "nbformat_minor": 5
}
