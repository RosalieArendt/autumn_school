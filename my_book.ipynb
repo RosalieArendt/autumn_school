{
 "cells": [
  {
   "cell_type": "code",
   "execution_count": null,
   "id": "01729da1-0313-4a1e-8232-898a2a7fe969",
   "metadata": {},
   "outputs": [],
   "source": [
    "x = 5"
   ]
  },
  {
   "cell_type": "markdown",
   "id": "ea5d0d5c-9b6e-4039-aae7-3ff98a191411",
   "metadata": {},
   "source": [
    "this is five "
   ]
  }
 ],
 "metadata": {
  "kernelspec": {
   "display_name": "Python 3 (ipykernel)",
   "language": "python",
   "name": "python3"
  },
  "language_info": {
   "codemirror_mode": {
    "name": "ipython",
    "version": 3
   },
   "file_extension": ".py",
   "mimetype": "text/x-python",
   "name": "python",
   "nbconvert_exporter": "python",
   "pygments_lexer": "ipython3",
   "version": "3.11.10"
  }
 },
 "nbformat": 4,
 "nbformat_minor": 5
}
